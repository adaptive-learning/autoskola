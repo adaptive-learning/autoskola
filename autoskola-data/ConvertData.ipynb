{
 "metadata": {
  "name": ""
 },
 "nbformat": 3,
 "nbformat_minor": 0,
 "worksheets": [
  {
   "cells": [
    {
     "cell_type": "code",
     "collapsed": false,
     "input": [
      "import json\n",
      "import re"
     ],
     "language": "python",
     "metadata": {},
     "outputs": [],
     "prompt_number": 30
    },
    {
     "cell_type": "code",
     "collapsed": false,
     "input": [
      "def load_data(filename):\n",
      "    with open(filename) as json_data:\n",
      "        return json.load(json_data)"
     ],
     "language": "python",
     "metadata": {},
     "outputs": [],
     "prompt_number": 31
    },
    {
     "cell_type": "code",
     "collapsed": false,
     "input": [
      "questions = load_data('data.json')\n",
      "categories = load_data('categories.json')"
     ],
     "language": "python",
     "metadata": {},
     "outputs": [],
     "prompt_number": 32
    },
    {
     "cell_type": "code",
     "collapsed": false,
     "input": [
      "category_names = [\n",
      "                  \"Pravidla provozu na pozemn\u00edch komunikac\u00edch\",\n",
      "                  \"Dopravn\u00ed zna\u010dky\",\n",
      "                  \"Dopravn\u00ed situace\",\n",
      "                  \"Z\u00e1sady bezpe\u010dn\u00e9 j\u00edzdy\",\n",
      "                  \"P\u0159edpisy souvisej\u00edc\u00ed s provozem\",\n",
      "                  \"P\u0159edpisy o podm\u00ednk\u00e1ch provozu vozidel\",\n",
      "                  \"Zdravotnick\u00e1 p\u0159\u00edprava\",\n",
      "]\n",
      "category_indexes = {}\n",
      "for i, c in enumerate(category_names):\n",
      "    category_indexes[c] = i"
     ],
     "language": "python",
     "metadata": {},
     "outputs": [],
     "prompt_number": 33
    },
    {
     "cell_type": "code",
     "collapsed": false,
     "input": [
      "def process_option(opt, correct):\n",
      "    return opt[0], {'text': re.sub(r'\\n$', '', opt[1]), 'correct': correct}\n",
      "\n",
      "def process_question(q):\n",
      "    images = map(lambda s: {'path': s[1:], 'name': s.replace(' ', '_').replace('/QuestionImg/', '')[-20:]} , q['images'])\n",
      "    opts = map(lambda opt: process_option(opt, True), q['correct'])\n",
      "    opts += map(lambda opt: process_option(opt, False), q['incorrect'])\n",
      "    opts = map(lambda (x, y): y, sorted(opts))\n",
      "    order = 0\n",
      "    for opt in opts:\n",
      "        opt['order'] = order\n",
      "        if len(images) == len(opts):\n",
      "            opt['images'] = [images[order]]\n",
      "        order += 1\n",
      "    if len(images) == len(opts):\n",
      "        images = []\n",
      "    images_text = ' '.join(map(lambda im: '<br />![Image](%s)' % im['name'], images))\n",
      "    return {\n",
      "        'text': re.sub(r'\\r\\n$', '', q['text']) + images_text,\n",
      "        'options': opts,\n",
      "        'images': images,\n",
      "        'categories': [category_names[categories[q['qid']] - 1]],\n",
      "        'identifier': q['qid'],\n",
      "    }"
     ],
     "language": "python",
     "metadata": {},
     "outputs": [],
     "prompt_number": 34
    },
    {
     "cell_type": "code",
     "collapsed": false,
     "input": [
      "new_questions = {'resources': [], 'questions': map(process_question, questions)}"
     ],
     "language": "python",
     "metadata": {},
     "outputs": [],
     "prompt_number": 35
    },
    {
     "cell_type": "code",
     "collapsed": false,
     "input": [
      "\"\"\"\n",
      "10 ot\u00e1zek z kategorie Pravidla provozu na pozemn\u00edch komunikac\u00edch po 2 bodech.\n",
      "3 ot\u00e1zky z kategorie Dopravn\u00ed zna\u010dky po 1 bodu.\n",
      "4 ot\u00e1zky z kategorie Z\u00e1sady bezpe\u010dn\u00e9 j\u00edzdy po 2 bodech.\n",
      "3 ot\u00e1zky z kategorie Dopravn\u00ed situace po 4 bodech.\n",
      "2 ot\u00e1zky z kategorie P\u0159edpisy o podm\u00ednk\u00e1ch provozu vozidel po 1 bodu.\n",
      "2 ot\u00e1zky z kategorie P\u0159edpisy souvisej\u00edc\u00ed s provozem po 3 bodech.\n",
      "1 ot\u00e1zka z kategorie Zdravotnick\u00e1 p\u0159\u00edprava po 1 bodu.\n",
      "\"\"\"\n",
      "import random\n",
      "    \n",
      "def create_test_set(new_questions, test_name):\n",
      "    nums = [\n",
      "            10,\n",
      "            3,\n",
      "            4,\n",
      "            3,\n",
      "            2,\n",
      "            2,\n",
      "            1,\n",
      "            ]\n",
      "    iters = 0\n",
      "    while sum(nums) > 0:\n",
      "        iters += 1\n",
      "        i = random.randint(0, len(new_questions['questions']) - 1)\n",
      "        question = new_questions['questions'][i]\n",
      "        category_index = category_indexes[question['categories'][0]]\n",
      "        if nums[category_index] > 0:\n",
      "            if not 'sets' in question:\n",
      "                question['sets'] = []\n",
      "            if not test_name in question['sets']:\n",
      "                question['sets'].append(test_name)\n",
      "                nums[category_index] -= 1\n",
      "    # print iters\n",
      "                           \n",
      "\n",
      "for i in range(1,20):\n",
      "    create_test_set(new_questions, 'test%d'%i)"
     ],
     "language": "python",
     "metadata": {},
     "outputs": [],
     "prompt_number": 36
    },
    {
     "cell_type": "code",
     "collapsed": false,
     "input": [
      "with open('data_new.json', 'w') as f:\n",
      "    json.dump(new_questions, f, indent=2)"
     ],
     "language": "python",
     "metadata": {},
     "outputs": [],
     "prompt_number": 37
    }
   ],
   "metadata": {}
  }
 ]
}